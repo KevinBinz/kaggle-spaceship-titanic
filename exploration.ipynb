{
 "cells": [
  {
   "cell_type": "code",
   "execution_count": 7,
   "metadata": {},
   "outputs": [
    {
     "name": "stdout",
     "output_type": "stream",
     "text": [
      "Downloading spaceship-titanic.zip to d:\\Git\\kaggle-spaceship-titanic\n",
      "\n"
     ]
    },
    {
     "name": "stderr",
     "output_type": "stream",
     "text": [
      "\n",
      "  0%|          | 0.00/299k [00:00<?, ?B/s]\n",
      "100%|██████████| 299k/299k [00:00<00:00, 2.91MB/s]\n",
      "100%|██████████| 299k/299k [00:00<00:00, 2.89MB/s]\n"
     ]
    }
   ],
   "source": [
    "import kaggle\n",
    "!kaggle competitions download -c spaceship-titanic\n"
   ]
  },
  {
   "cell_type": "code",
   "execution_count": 22,
   "metadata": {},
   "outputs": [
    {
     "name": "stdout",
     "output_type": "stream",
     "text": [
      "Checking whether there is an H2O instance running at http://localhost:54321. connected.\n",
      "Warning: Your H2O cluster version is (3 months and 16 days) old.  There may be a newer version available.\n",
      "Please download and install the latest version from: https://h2o-release.s3.amazonaws.com/h2o/latest_stable.html\n"
     ]
    },
    {
     "data": {
      "text/html": [
       "\n",
       "<style>\n",
       "\n",
       "#h2o-table-2.h2o-container {\n",
       "  overflow-x: auto;\n",
       "}\n",
       "#h2o-table-2 .h2o-table {\n",
       "  /* width: 100%; */\n",
       "  margin-top: 1em;\n",
       "  margin-bottom: 1em;\n",
       "}\n",
       "#h2o-table-2 .h2o-table caption {\n",
       "  white-space: nowrap;\n",
       "  caption-side: top;\n",
       "  text-align: left;\n",
       "  /* margin-left: 1em; */\n",
       "  margin: 0;\n",
       "  font-size: larger;\n",
       "}\n",
       "#h2o-table-2 .h2o-table thead {\n",
       "  white-space: nowrap; \n",
       "  position: sticky;\n",
       "  top: 0;\n",
       "  box-shadow: 0 -1px inset;\n",
       "}\n",
       "#h2o-table-2 .h2o-table tbody {\n",
       "  overflow: auto;\n",
       "}\n",
       "#h2o-table-2 .h2o-table th,\n",
       "#h2o-table-2 .h2o-table td {\n",
       "  text-align: right;\n",
       "  /* border: 1px solid; */\n",
       "}\n",
       "#h2o-table-2 .h2o-table tr:nth-child(even) {\n",
       "  /* background: #F5F5F5 */\n",
       "}\n",
       "\n",
       "</style>      \n",
       "<div id=\"h2o-table-2\" class=\"h2o-container\">\n",
       "  <table class=\"h2o-table\">\n",
       "    <caption></caption>\n",
       "    <thead></thead>\n",
       "    <tbody><tr><td>H2O_cluster_uptime:</td>\n",
       "<td>23 mins 21 secs</td></tr>\n",
       "<tr><td>H2O_cluster_timezone:</td>\n",
       "<td>America/Los_Angeles</td></tr>\n",
       "<tr><td>H2O_data_parsing_timezone:</td>\n",
       "<td>UTC</td></tr>\n",
       "<tr><td>H2O_cluster_version:</td>\n",
       "<td>3.46.0.6</td></tr>\n",
       "<tr><td>H2O_cluster_version_age:</td>\n",
       "<td>3 months and 16 days</td></tr>\n",
       "<tr><td>H2O_cluster_name:</td>\n",
       "<td>H2O_from_python_kevin_kmujt9</td></tr>\n",
       "<tr><td>H2O_cluster_total_nodes:</td>\n",
       "<td>1</td></tr>\n",
       "<tr><td>H2O_cluster_free_memory:</td>\n",
       "<td>3.819 Gb</td></tr>\n",
       "<tr><td>H2O_cluster_total_cores:</td>\n",
       "<td>12</td></tr>\n",
       "<tr><td>H2O_cluster_allowed_cores:</td>\n",
       "<td>12</td></tr>\n",
       "<tr><td>H2O_cluster_status:</td>\n",
       "<td>locked, healthy</td></tr>\n",
       "<tr><td>H2O_connection_url:</td>\n",
       "<td>http://localhost:54321</td></tr>\n",
       "<tr><td>H2O_connection_proxy:</td>\n",
       "<td>{\"http\": null, \"https\": null}</td></tr>\n",
       "<tr><td>H2O_internal_security:</td>\n",
       "<td>False</td></tr>\n",
       "<tr><td>Python_version:</td>\n",
       "<td>3.13.2 final</td></tr></tbody>\n",
       "  </table>\n",
       "</div>\n"
      ],
      "text/plain": [
       "--------------------------  -----------------------------\n",
       "H2O_cluster_uptime:         23 mins 21 secs\n",
       "H2O_cluster_timezone:       America/Los_Angeles\n",
       "H2O_data_parsing_timezone:  UTC\n",
       "H2O_cluster_version:        3.46.0.6\n",
       "H2O_cluster_version_age:    3 months and 16 days\n",
       "H2O_cluster_name:           H2O_from_python_kevin_kmujt9\n",
       "H2O_cluster_total_nodes:    1\n",
       "H2O_cluster_free_memory:    3.819 Gb\n",
       "H2O_cluster_total_cores:    12\n",
       "H2O_cluster_allowed_cores:  12\n",
       "H2O_cluster_status:         locked, healthy\n",
       "H2O_connection_url:         http://localhost:54321\n",
       "H2O_connection_proxy:       {\"http\": null, \"https\": null}\n",
       "H2O_internal_security:      False\n",
       "Python_version:             3.13.2 final\n",
       "--------------------------  -----------------------------"
      ]
     },
     "metadata": {},
     "output_type": "display_data"
    },
    {
     "name": "stdout",
     "output_type": "stream",
     "text": [
      "Parse progress: |████████████████████████████████████████████████████████████████| (done) 100%\n",
      "Parse progress: |████████████████████████████████████████████████████████████████| (done) 100%\n"
     ]
    },
    {
     "data": {
      "text/html": [
       "<pre style='margin: 1em 0 1em 0;'>Rows:8693\n",
       "Cols:14\n",
       "</pre>"
      ],
      "text/plain": [
       "Rows:8693\n",
       "Cols:14\n"
      ]
     },
     "metadata": {},
     "output_type": "display_data"
    },
    {
     "data": {
      "text/html": [
       "<table class='dataframe'>\n",
       "<thead>\n",
       "<tr><th>       </th><th>PassengerId  </th><th>HomePlanet  </th><th>CryoSleep  </th><th>Cabin  </th><th>Destination  </th><th>Age              </th><th>VIP  </th><th>RoomService       </th><th>FoodCourt         </th><th>ShoppingMall      </th><th>Spa               </th><th>VRDeck            </th><th>Name              </th><th>Transported  </th></tr>\n",
       "</thead>\n",
       "<tbody>\n",
       "<tr><td>type   </td><td>string       </td><td>enum        </td><td>enum       </td><td>enum   </td><td>enum         </td><td>int              </td><td>enum </td><td>int               </td><td>int               </td><td>int               </td><td>int               </td><td>int               </td><td>string            </td><td>enum         </td></tr>\n",
       "<tr><td>mins   </td><td>NaN          </td><td>            </td><td>           </td><td>       </td><td>             </td><td>0.0              </td><td>     </td><td>0.0               </td><td>0.0               </td><td>0.0               </td><td>0.0               </td><td>0.0               </td><td>NaN               </td><td>             </td></tr>\n",
       "<tr><td>mean   </td><td>NaN          </td><td>            </td><td>           </td><td>       </td><td>             </td><td>28.82793046746535</td><td>     </td><td>224.68761748120303</td><td>458.07720329024676</td><td>173.72916912197996</td><td>311.1387779083431 </td><td>304.8547912992357 </td><td>NaN               </td><td>             </td></tr>\n",
       "<tr><td>maxs   </td><td>NaN          </td><td>            </td><td>           </td><td>       </td><td>             </td><td>79.0             </td><td>     </td><td>14327.0           </td><td>29813.0           </td><td>23492.0           </td><td>22408.0           </td><td>24133.0           </td><td>NaN               </td><td>             </td></tr>\n",
       "<tr><td>sigma  </td><td>NaN          </td><td>            </td><td>           </td><td>       </td><td>             </td><td>14.48902142390878</td><td>     </td><td>666.7176629280652 </td><td>1611.489240355072 </td><td>604.6964584708243 </td><td>1136.7055348344065</td><td>1145.7171888056614</td><td>NaN               </td><td>             </td></tr>\n",
       "<tr><td>zeros  </td><td>0            </td><td>            </td><td>           </td><td>       </td><td>             </td><td>178              </td><td>     </td><td>5577              </td><td>5456              </td><td>5587              </td><td>5324              </td><td>5495              </td><td>0                 </td><td>             </td></tr>\n",
       "<tr><td>missing</td><td>0            </td><td>201         </td><td>217        </td><td>199    </td><td>182          </td><td>179              </td><td>203  </td><td>181               </td><td>183               </td><td>208               </td><td>183               </td><td>188               </td><td>200               </td><td>0            </td></tr>\n",
       "<tr><td>0      </td><td>0001_01      </td><td>Europa      </td><td>False      </td><td>B/0/P  </td><td>TRAPPIST-1e  </td><td>39.0             </td><td>False</td><td>0.0               </td><td>0.0               </td><td>0.0               </td><td>0.0               </td><td>0.0               </td><td>Maham Ofracculy   </td><td>False        </td></tr>\n",
       "<tr><td>1      </td><td>0002_01      </td><td>Earth       </td><td>False      </td><td>F/0/S  </td><td>TRAPPIST-1e  </td><td>24.0             </td><td>False</td><td>109.0             </td><td>9.0               </td><td>25.0              </td><td>549.0             </td><td>44.0              </td><td>Juanna Vines      </td><td>True         </td></tr>\n",
       "<tr><td>2      </td><td>0003_01      </td><td>Europa      </td><td>False      </td><td>A/0/S  </td><td>TRAPPIST-1e  </td><td>58.0             </td><td>True </td><td>43.0              </td><td>3576.0            </td><td>0.0               </td><td>6715.0            </td><td>49.0              </td><td>Altark Susent     </td><td>False        </td></tr>\n",
       "<tr><td>3      </td><td>0003_02      </td><td>Europa      </td><td>False      </td><td>A/0/S  </td><td>TRAPPIST-1e  </td><td>33.0             </td><td>False</td><td>0.0               </td><td>1283.0            </td><td>371.0             </td><td>3329.0            </td><td>193.0             </td><td>Solam Susent      </td><td>False        </td></tr>\n",
       "<tr><td>4      </td><td>0004_01      </td><td>Earth       </td><td>False      </td><td>F/1/S  </td><td>TRAPPIST-1e  </td><td>16.0             </td><td>False</td><td>303.0             </td><td>70.0              </td><td>151.0             </td><td>565.0             </td><td>2.0               </td><td>Willy Santantines </td><td>True         </td></tr>\n",
       "<tr><td>5      </td><td>0005_01      </td><td>Earth       </td><td>False      </td><td>F/0/P  </td><td>PSO J318.5-22</td><td>44.0             </td><td>False</td><td>0.0               </td><td>483.0             </td><td>0.0               </td><td>291.0             </td><td>0.0               </td><td>Sandie Hinetthews </td><td>True         </td></tr>\n",
       "<tr><td>6      </td><td>0006_01      </td><td>Earth       </td><td>False      </td><td>F/2/S  </td><td>TRAPPIST-1e  </td><td>26.0             </td><td>False</td><td>42.0              </td><td>1539.0            </td><td>3.0               </td><td>0.0               </td><td>0.0               </td><td>Billex Jacostaffey</td><td>True         </td></tr>\n",
       "<tr><td>7      </td><td>0006_02      </td><td>Earth       </td><td>True       </td><td>G/0/S  </td><td>TRAPPIST-1e  </td><td>28.0             </td><td>False</td><td>0.0               </td><td>0.0               </td><td>0.0               </td><td>0.0               </td><td>nan               </td><td>Candra Jacostaffey</td><td>True         </td></tr>\n",
       "<tr><td>8      </td><td>0007_01      </td><td>Earth       </td><td>False      </td><td>F/3/S  </td><td>TRAPPIST-1e  </td><td>35.0             </td><td>False</td><td>0.0               </td><td>785.0             </td><td>17.0              </td><td>216.0             </td><td>0.0               </td><td>Andona Beston     </td><td>True         </td></tr>\n",
       "<tr><td>9      </td><td>0008_01      </td><td>Europa      </td><td>True       </td><td>B/1/P  </td><td>55 Cancri e  </td><td>14.0             </td><td>False</td><td>0.0               </td><td>0.0               </td><td>0.0               </td><td>0.0               </td><td>0.0               </td><td>Erraiam Flatic    </td><td>True         </td></tr>\n",
       "</tbody>\n",
       "</table><pre style='font-size: smaller; margin-bottom: 1em;'>[8693 rows x 14 columns]</pre>"
      ],
      "text/plain": [
       "         PassengerId    HomePlanet    CryoSleep    Cabin    Destination    Age                VIP    RoomService         FoodCourt           ShoppingMall        Spa                 VRDeck              Name                Transported\n",
       "-------  -------------  ------------  -----------  -------  -------------  -----------------  -----  ------------------  ------------------  ------------------  ------------------  ------------------  ------------------  -------------\n",
       "type     string         enum          enum         enum     enum           int                enum   int                 int                 int                 int                 int                 string              enum\n",
       "mins     NaN                                                               0.0                       0.0                 0.0                 0.0                 0.0                 0.0                 NaN\n",
       "mean     NaN                                                               28.82793046746535         224.68761748120303  458.07720329024676  173.72916912197996  311.1387779083431   304.8547912992357   NaN\n",
       "maxs     NaN                                                               79.0                      14327.0             29813.0             23492.0             22408.0             24133.0             NaN\n",
       "sigma    NaN                                                               14.48902142390878         666.7176629280652   1611.489240355072   604.6964584708243   1136.7055348344065  1145.7171888056614  NaN\n",
       "zeros    0                                                                 178                       5577                5456                5587                5324                5495                0\n",
       "missing  0              201           217          199      182            179                203    181                 183                 208                 183                 188                 200                 0\n",
       "0        0001_01        Europa        False        B/0/P    TRAPPIST-1e    39.0               False  0.0                 0.0                 0.0                 0.0                 0.0                 Maham Ofracculy     False\n",
       "1        0002_01        Earth         False        F/0/S    TRAPPIST-1e    24.0               False  109.0               9.0                 25.0                549.0               44.0                Juanna Vines        True\n",
       "2        0003_01        Europa        False        A/0/S    TRAPPIST-1e    58.0               True   43.0                3576.0              0.0                 6715.0              49.0                Altark Susent       False\n",
       "3        0003_02        Europa        False        A/0/S    TRAPPIST-1e    33.0               False  0.0                 1283.0              371.0               3329.0              193.0               Solam Susent        False\n",
       "4        0004_01        Earth         False        F/1/S    TRAPPIST-1e    16.0               False  303.0               70.0                151.0               565.0               2.0                 Willy Santantines   True\n",
       "5        0005_01        Earth         False        F/0/P    PSO J318.5-22  44.0               False  0.0                 483.0               0.0                 291.0               0.0                 Sandie Hinetthews   True\n",
       "6        0006_01        Earth         False        F/2/S    TRAPPIST-1e    26.0               False  42.0                1539.0              3.0                 0.0                 0.0                 Billex Jacostaffey  True\n",
       "7        0006_02        Earth         True         G/0/S    TRAPPIST-1e    28.0               False  0.0                 0.0                 0.0                 0.0                 nan                 Candra Jacostaffey  True\n",
       "8        0007_01        Earth         False        F/3/S    TRAPPIST-1e    35.0               False  0.0                 785.0               17.0                216.0               0.0                 Andona Beston       True\n",
       "9        0008_01        Europa        True         B/1/P    55 Cancri e    14.0               False  0.0                 0.0                 0.0                 0.0                 0.0                 Erraiam Flatic      True\n",
       "[8693 rows x 14 columns]\n"
      ]
     },
     "metadata": {},
     "output_type": "display_data"
    }
   ],
   "source": [
    "import h2o\n",
    "h2o.init()\n",
    "trainRaw = h2o.import_file('train.csv')\n",
    "testRaw = h2o.import_file('test.csv')\n",
    "\n",
    "trainRaw.describe()\n"
   ]
  },
  {
   "cell_type": "code",
   "execution_count": 23,
   "metadata": {},
   "outputs": [
    {
     "name": "stdout",
     "output_type": "stream",
     "text": [
      "Parse progress: |████████████████████████████████████████████████████████████████| (done) 100%\n"
     ]
    },
    {
     "data": {
      "text/html": [
       "<pre style='margin: 1em 0 1em 0;'>Rows:8693\n",
       "Cols:19\n",
       "</pre>"
      ],
      "text/plain": [
       "Rows:8693\n",
       "Cols:19\n"
      ]
     },
     "metadata": {},
     "output_type": "display_data"
    },
    {
     "data": {
      "text/html": [
       "<table class='dataframe'>\n",
       "<thead>\n",
       "<tr><th>       </th><th>PassengerId  </th><th>HomePlanet  </th><th>CryoSleep  </th><th>Cabin  </th><th>Destination  </th><th>Age               </th><th>VIP  </th><th>RoomService      </th><th>FoodCourt         </th><th>ShoppingMall      </th><th>Spa               </th><th>VRDeck            </th><th>Name              </th><th>Transported  </th><th>CabinOne  </th><th>CabinTwo          </th><th>CabinThree  </th><th>First Name  </th><th>Last Name  </th></tr>\n",
       "</thead>\n",
       "<tbody>\n",
       "<tr><td>type   </td><td>string       </td><td>enum        </td><td>enum       </td><td>enum   </td><td>enum         </td><td>int               </td><td>enum </td><td>int              </td><td>int               </td><td>int               </td><td>int               </td><td>int               </td><td>string            </td><td>enum         </td><td>enum      </td><td>int               </td><td>enum        </td><td>enum        </td><td>enum       </td></tr>\n",
       "<tr><td>mins   </td><td>NaN          </td><td>            </td><td>           </td><td>       </td><td>             </td><td>0.0               </td><td>     </td><td>0.0              </td><td>0.0               </td><td>0.0               </td><td>0.0               </td><td>0.0               </td><td>NaN               </td><td>             </td><td>          </td><td>0.0               </td><td>            </td><td>            </td><td>           </td></tr>\n",
       "<tr><td>mean   </td><td>NaN          </td><td>            </td><td>           </td><td>       </td><td>             </td><td>28.827930467465404</td><td>     </td><td>224.6876174812026</td><td>458.0772032902469 </td><td>173.72916912197988</td><td>311.1387779083443 </td><td>304.85479129923556</td><td>NaN               </td><td>             </td><td>          </td><td>600.3676712973853 </td><td>            </td><td>            </td><td>           </td></tr>\n",
       "<tr><td>maxs   </td><td>NaN          </td><td>            </td><td>           </td><td>       </td><td>             </td><td>79.0              </td><td>     </td><td>14327.0          </td><td>29813.0           </td><td>23492.0           </td><td>22408.0           </td><td>24133.0           </td><td>NaN               </td><td>             </td><td>          </td><td>1894.0            </td><td>            </td><td>            </td><td>           </td></tr>\n",
       "<tr><td>sigma  </td><td>NaN          </td><td>            </td><td>           </td><td>       </td><td>             </td><td>14.489021423908754</td><td>     </td><td>666.7176629280646</td><td>1611.4892403550716</td><td>604.6964584708244 </td><td>1136.7055348344063</td><td>1145.7171888056605</td><td>NaN               </td><td>             </td><td>          </td><td>511.86722602437817</td><td>            </td><td>            </td><td>           </td></tr>\n",
       "<tr><td>zeros  </td><td>0            </td><td>            </td><td>           </td><td>       </td><td>             </td><td>178               </td><td>     </td><td>5577             </td><td>5456              </td><td>5587              </td><td>5324              </td><td>5495              </td><td>0                 </td><td>             </td><td>          </td><td>18                </td><td>            </td><td>            </td><td>           </td></tr>\n",
       "<tr><td>missing</td><td>0            </td><td>0           </td><td>0          </td><td>0      </td><td>0            </td><td>179               </td><td>0    </td><td>181              </td><td>183               </td><td>208               </td><td>183               </td><td>188               </td><td>0                 </td><td>0            </td><td>0         </td><td>199               </td><td>0           </td><td>0           </td><td>0          </td></tr>\n",
       "<tr><td>0      </td><td>0001_01      </td><td>Europa      </td><td>False      </td><td>B/0/P  </td><td>TRAPPIST-1e  </td><td>39.0              </td><td>False</td><td>0.0              </td><td>0.0               </td><td>0.0               </td><td>0.0               </td><td>0.0               </td><td>Maham Ofracculy   </td><td>False        </td><td>B         </td><td>0.0               </td><td>P           </td><td>Maham       </td><td>Ofracculy  </td></tr>\n",
       "<tr><td>1      </td><td>0002_01      </td><td>Earth       </td><td>False      </td><td>F/0/S  </td><td>TRAPPIST-1e  </td><td>24.0              </td><td>False</td><td>109.0            </td><td>9.0               </td><td>25.0              </td><td>549.0             </td><td>44.0              </td><td>Juanna Vines      </td><td>True         </td><td>F         </td><td>0.0               </td><td>S           </td><td>Juanna      </td><td>Vines      </td></tr>\n",
       "<tr><td>2      </td><td>0003_01      </td><td>Europa      </td><td>False      </td><td>A/0/S  </td><td>TRAPPIST-1e  </td><td>58.0              </td><td>True </td><td>43.0             </td><td>3576.0            </td><td>0.0               </td><td>6715.0            </td><td>49.0              </td><td>Altark Susent     </td><td>False        </td><td>A         </td><td>0.0               </td><td>S           </td><td>Altark      </td><td>Susent     </td></tr>\n",
       "<tr><td>3      </td><td>0003_02      </td><td>Europa      </td><td>False      </td><td>A/0/S  </td><td>TRAPPIST-1e  </td><td>33.0              </td><td>False</td><td>0.0              </td><td>1283.0            </td><td>371.0             </td><td>3329.0            </td><td>193.0             </td><td>Solam Susent      </td><td>False        </td><td>A         </td><td>0.0               </td><td>S           </td><td>Solam       </td><td>Susent     </td></tr>\n",
       "<tr><td>4      </td><td>0004_01      </td><td>Earth       </td><td>False      </td><td>F/1/S  </td><td>TRAPPIST-1e  </td><td>16.0              </td><td>False</td><td>303.0            </td><td>70.0              </td><td>151.0             </td><td>565.0             </td><td>2.0               </td><td>Willy Santantines </td><td>True         </td><td>F         </td><td>1.0               </td><td>S           </td><td>Willy       </td><td>Santantines</td></tr>\n",
       "<tr><td>5      </td><td>0005_01      </td><td>Earth       </td><td>False      </td><td>F/0/P  </td><td>PSO J318.5-22</td><td>44.0              </td><td>False</td><td>0.0              </td><td>483.0             </td><td>0.0               </td><td>291.0             </td><td>0.0               </td><td>Sandie Hinetthews </td><td>True         </td><td>F         </td><td>0.0               </td><td>P           </td><td>Sandie      </td><td>Hinetthews </td></tr>\n",
       "<tr><td>6      </td><td>0006_01      </td><td>Earth       </td><td>False      </td><td>F/2/S  </td><td>TRAPPIST-1e  </td><td>26.0              </td><td>False</td><td>42.0             </td><td>1539.0            </td><td>3.0               </td><td>0.0               </td><td>0.0               </td><td>Billex Jacostaffey</td><td>True         </td><td>F         </td><td>2.0               </td><td>S           </td><td>Billex      </td><td>Jacostaffey</td></tr>\n",
       "<tr><td>7      </td><td>0006_02      </td><td>Earth       </td><td>True       </td><td>G/0/S  </td><td>TRAPPIST-1e  </td><td>28.0              </td><td>False</td><td>0.0              </td><td>0.0               </td><td>0.0               </td><td>0.0               </td><td>nan               </td><td>Candra Jacostaffey</td><td>True         </td><td>G         </td><td>0.0               </td><td>S           </td><td>Candra      </td><td>Jacostaffey</td></tr>\n",
       "<tr><td>8      </td><td>0007_01      </td><td>Earth       </td><td>False      </td><td>F/3/S  </td><td>TRAPPIST-1e  </td><td>35.0              </td><td>False</td><td>0.0              </td><td>785.0             </td><td>17.0              </td><td>216.0             </td><td>0.0               </td><td>Andona Beston     </td><td>True         </td><td>F         </td><td>3.0               </td><td>S           </td><td>Andona      </td><td>Beston     </td></tr>\n",
       "<tr><td>9      </td><td>0008_01      </td><td>Europa      </td><td>True       </td><td>B/1/P  </td><td>55 Cancri e  </td><td>14.0              </td><td>False</td><td>0.0              </td><td>0.0               </td><td>0.0               </td><td>0.0               </td><td>0.0               </td><td>Erraiam Flatic    </td><td>True         </td><td>B         </td><td>1.0               </td><td>P           </td><td>Erraiam     </td><td>Flatic     </td></tr>\n",
       "</tbody>\n",
       "</table><pre style='font-size: smaller; margin-bottom: 1em;'>[8693 rows x 19 columns]</pre>"
      ],
      "text/plain": [
       "         PassengerId    HomePlanet    CryoSleep    Cabin    Destination    Age                 VIP    RoomService        FoodCourt           ShoppingMall        Spa                 VRDeck              Name                Transported    CabinOne    CabinTwo            CabinThree    First Name    Last Name\n",
       "-------  -------------  ------------  -----------  -------  -------------  ------------------  -----  -----------------  ------------------  ------------------  ------------------  ------------------  ------------------  -------------  ----------  ------------------  ------------  ------------  -----------\n",
       "type     string         enum          enum         enum     enum           int                 enum   int                int                 int                 int                 int                 string              enum           enum        int                 enum          enum          enum\n",
       "mins     NaN                                                               0.0                        0.0                0.0                 0.0                 0.0                 0.0                 NaN                                            0.0\n",
       "mean     NaN                                                               28.827930467465404         224.6876174812026  458.0772032902469   173.72916912197988  311.1387779083443   304.85479129923556  NaN                                            600.3676712973853\n",
       "maxs     NaN                                                               79.0                       14327.0            29813.0             23492.0             22408.0             24133.0             NaN                                            1894.0\n",
       "sigma    NaN                                                               14.489021423908754         666.7176629280646  1611.4892403550716  604.6964584708244   1136.7055348344063  1145.7171888056605  NaN                                            511.86722602437817\n",
       "zeros    0                                                                 178                        5577               5456                5587                5324                5495                0                                              18\n",
       "missing  0              0             0            0        0              179                 0      181                183                 208                 183                 188                 0                   0              0           199                 0             0             0\n",
       "0        0001_01        Europa        False        B/0/P    TRAPPIST-1e    39.0                False  0.0                0.0                 0.0                 0.0                 0.0                 Maham Ofracculy     False          B           0.0                 P             Maham         Ofracculy\n",
       "1        0002_01        Earth         False        F/0/S    TRAPPIST-1e    24.0                False  109.0              9.0                 25.0                549.0               44.0                Juanna Vines        True           F           0.0                 S             Juanna        Vines\n",
       "2        0003_01        Europa        False        A/0/S    TRAPPIST-1e    58.0                True   43.0               3576.0              0.0                 6715.0              49.0                Altark Susent       False          A           0.0                 S             Altark        Susent\n",
       "3        0003_02        Europa        False        A/0/S    TRAPPIST-1e    33.0                False  0.0                1283.0              371.0               3329.0              193.0               Solam Susent        False          A           0.0                 S             Solam         Susent\n",
       "4        0004_01        Earth         False        F/1/S    TRAPPIST-1e    16.0                False  303.0              70.0                151.0               565.0               2.0                 Willy Santantines   True           F           1.0                 S             Willy         Santantines\n",
       "5        0005_01        Earth         False        F/0/P    PSO J318.5-22  44.0                False  0.0                483.0               0.0                 291.0               0.0                 Sandie Hinetthews   True           F           0.0                 P             Sandie        Hinetthews\n",
       "6        0006_01        Earth         False        F/2/S    TRAPPIST-1e    26.0                False  42.0               1539.0              3.0                 0.0                 0.0                 Billex Jacostaffey  True           F           2.0                 S             Billex        Jacostaffey\n",
       "7        0006_02        Earth         True         G/0/S    TRAPPIST-1e    28.0                False  0.0                0.0                 0.0                 0.0                 nan                 Candra Jacostaffey  True           G           0.0                 S             Candra        Jacostaffey\n",
       "8        0007_01        Earth         False        F/3/S    TRAPPIST-1e    35.0                False  0.0                785.0               17.0                216.0               0.0                 Andona Beston       True           F           3.0                 S             Andona        Beston\n",
       "9        0008_01        Europa        True         B/1/P    55 Cancri e    14.0                False  0.0                0.0                 0.0                 0.0                 0.0                 Erraiam Flatic      True           B           1.0                 P             Erraiam       Flatic\n",
       "[8693 rows x 19 columns]\n"
      ]
     },
     "metadata": {},
     "output_type": "display_data"
    }
   ],
   "source": [
    "import pandas as pd\n",
    "trainDF = pd.read_csv('train.csv')\n",
    "def curate(df):\n",
    "    df[['CabinOne', 'CabinTwo', 'CabinThree']] = df['Cabin'].str.split('/', expand=True, n=3)\n",
    "    df[['First Name', 'Last Name']] = df['Name'].str.split(' ', expand=True, n=2)\n",
    "    return df\n",
    "\n",
    "trainProcessed = h2o.H2OFrame(curate(trainDF))\n",
    "trainProcessed.describe()"
   ]
  },
  {
   "cell_type": "code",
   "execution_count": null,
   "metadata": {},
   "outputs": [
    {
     "name": "stdout",
     "output_type": "stream",
     "text": [
      "AutoML progress: |█\n",
      "12:19:48.86: AutoML: XGBoost is not available; skipping it.\n",
      "12:19:48.101: _train param, Dropping bad and constant columns: [PassengerId, Name]\n",
      "\n",
      "██\n",
      "12:19:53.268: _train param, Dropping bad and constant columns: [PassengerId, Name]\n",
      "12:19:57.218: _train param, Dropping bad and constant columns: [PassengerId, Name]\n",
      "\n",
      "███\n",
      "12:20:08.938: _train param, Dropping bad and constant columns: [PassengerId, Name]\n",
      "\n",
      "█\n",
      "12:20:12.502: _train param, Dropping bad and constant columns: [PassengerId, Name]\n",
      "\n",
      "██\n",
      "12:20:17.168: _train param, Dropping bad and constant columns: [PassengerId, Name]\n",
      "\n",
      "█\n",
      "12:20:23.502: _train param, Dropping bad and constant columns: [PassengerId, Name]\n",
      "\n",
      "██████\n",
      "12:20:43.890: _train param, Dropping bad and constant columns: [PassengerId, Name]\n",
      "12:20:47.235: _train param, Dropping bad and constant columns: [PassengerId, Name]\n",
      "\n",
      "███\n",
      "12:21:06.344: _train param, Dropping unused columns: [PassengerId, Name]\n",
      "12:21:08.970: _train param, Dropping unused columns: [PassengerId, Name]\n",
      "\n",
      "████████████████████████████████████████████| (done) 100%\n",
      "model_id                                                   accuracy       auc    logloss     aucpr    mean_per_class_error      rmse       mse\n",
      "GLM_1_AutoML_4_20250218_121948                             0.794547  0.878719   0.434571  0.889423                0.210379  0.376837  0.142006\n",
      "DeepLearning_1_AutoML_4_20250218_121948                    0.796388  0.881053   0.432653  0.892378                0.212583  0.376354  0.141642\n",
      "XRT_1_AutoML_4_20250218_121948                             0.802945  0.888297   0.419063  0.900538                0.201025  0.366943  0.134647\n",
      "GBM_1_AutoML_4_20250218_121948                             0.80375   0.889896   0.412252  0.903993                0.199673  0.365856  0.133851\n",
      "GBM_4_AutoML_4_20250218_121948                             0.805821  0.892574   0.413123  0.904645                0.199562  0.36647   0.1343\n",
      "GBM_grid_1_AutoML_4_20250218_121948_model_1                0.806856  0.896306   0.399422  0.909304                0.193553  0.359858  0.129498\n",
      "GBM_2_AutoML_4_20250218_121948                             0.807431  0.896492   0.399884  0.908565                0.195251  0.360476  0.129943\n",
      "GBM_3_AutoML_4_20250218_121948                             0.807661  0.897094   0.400687  0.909041                0.203213  0.360763  0.13015\n",
      "GBM_5_AutoML_4_20250218_121948                             0.808121  0.897855   0.396767  0.910626                0.20301   0.35884   0.128766\n",
      "StackedEnsemble_BestOfFamily_1_AutoML_4_20250218_121948    0.809042  0.898899   0.393621  0.910136                0.19293   0.357461  0.127778\n",
      "[12 rows x 8 columns]\n",
      "\n"
     ]
    }
   ],
   "source": [
    "import h2o.automl\n",
    "\n",
    "x = trainProcessed.columns\n",
    "y = \"Transported\"\n",
    "trainProcessed[y] = trainProcessed[y].asfactor()\n",
    "x.remove(y)\n",
    "\n",
    "aml = h2o.automl.H2OAutoML(max_models=10, seed=42, max_runtime_secs=7200, sort_metric='accuracy')\n",
    "aml.train(x=x, y=y, training_frame=trainProcessed)\n",
    "print(aml.leaderboard)\n",
    "\n",
    "# Raw: Accuracy 79.1 - 80.1%\n",
    "# Curated: Accuracy 79.4 - 80.9%"
   ]
  },
  {
   "cell_type": "code",
   "execution_count": null,
   "metadata": {},
   "outputs": [],
   "source": [
    "print(aml.leader.varimp(use_pandas=True))"
   ]
  },
  {
   "cell_type": "code",
   "execution_count": 32,
   "metadata": {},
   "outputs": [
    {
     "name": "stdout",
     "output_type": "stream",
     "text": [
      "Parse progress: |████████████████████████████████████████████████████████████████| (done) 100%\n"
     ]
    },
    {
     "data": {
      "text/html": [
       "<pre style='margin: 1em 0 1em 0;'>Rows:4277\n",
       "Cols:18\n",
       "</pre>"
      ],
      "text/plain": [
       "Rows:4277\n",
       "Cols:18\n"
      ]
     },
     "metadata": {},
     "output_type": "display_data"
    },
    {
     "data": {
      "text/html": [
       "<table class='dataframe'>\n",
       "<thead>\n",
       "<tr><th>       </th><th>PassengerId  </th><th>HomePlanet  </th><th>CryoSleep  </th><th>Cabin  </th><th>Destination  </th><th>Age               </th><th>VIP  </th><th>RoomService       </th><th>FoodCourt         </th><th>ShoppingMall     </th><th>Spa              </th><th>VRDeck            </th><th>Name             </th><th>CabinOne  </th><th>CabinTwo         </th><th>CabinThree  </th><th>First Name  </th><th>Last Name  </th></tr>\n",
       "</thead>\n",
       "<tbody>\n",
       "<tr><td>type   </td><td>string       </td><td>enum        </td><td>enum       </td><td>enum   </td><td>enum         </td><td>int               </td><td>enum </td><td>int               </td><td>int               </td><td>int              </td><td>int              </td><td>int               </td><td>string           </td><td>enum      </td><td>int              </td><td>enum        </td><td>enum        </td><td>enum       </td></tr>\n",
       "<tr><td>mins   </td><td>NaN          </td><td>            </td><td>           </td><td>       </td><td>             </td><td>0.0               </td><td>     </td><td>0.0               </td><td>0.0               </td><td>0.0              </td><td>0.0              </td><td>0.0               </td><td>NaN              </td><td>          </td><td>0.0              </td><td>            </td><td>            </td><td>           </td></tr>\n",
       "<tr><td>mean   </td><td>NaN          </td><td>            </td><td>           </td><td>       </td><td>             </td><td>28.65814620162445 </td><td>     </td><td>219.26626936829544</td><td>439.48429633181445</td><td>177.2955252452741</td><td>303.0524425287358</td><td>310.7100309745055 </td><td>NaN              </td><td>          </td><td>610.1788364855154</td><td>            </td><td>            </td><td>           </td></tr>\n",
       "<tr><td>maxs   </td><td>NaN          </td><td>            </td><td>           </td><td>       </td><td>             </td><td>79.0              </td><td>     </td><td>11567.0           </td><td>25273.0           </td><td>8292.0           </td><td>19844.0          </td><td>22272.0           </td><td>NaN              </td><td>          </td><td>1890.0           </td><td>            </td><td>            </td><td>           </td></tr>\n",
       "<tr><td>sigma  </td><td>NaN          </td><td>            </td><td>           </td><td>       </td><td>             </td><td>14.179071585227367</td><td>     </td><td>607.0112887875927 </td><td>1527.6630449251825</td><td>560.8211231958647</td><td>1117.186014940959</td><td>1246.9947416212317</td><td>NaN              </td><td>          </td><td>514.9681306884872</td><td>            </td><td>            </td><td>           </td></tr>\n",
       "<tr><td>zeros  </td><td>0            </td><td>            </td><td>           </td><td>       </td><td>             </td><td>82                </td><td>     </td><td>2726              </td><td>2690              </td><td>2744             </td><td>2611             </td><td>2757              </td><td>0                </td><td>          </td><td>7                </td><td>            </td><td>            </td><td>           </td></tr>\n",
       "<tr><td>missing</td><td>0            </td><td>0           </td><td>0          </td><td>0      </td><td>0            </td><td>91                </td><td>0    </td><td>82                </td><td>106               </td><td>98               </td><td>101              </td><td>80                </td><td>0                </td><td>0         </td><td>100              </td><td>0           </td><td>0           </td><td>0          </td></tr>\n",
       "<tr><td>0      </td><td>0013_01      </td><td>Earth       </td><td>True       </td><td>G/3/S  </td><td>TRAPPIST-1e  </td><td>27.0              </td><td>False</td><td>0.0               </td><td>0.0               </td><td>0.0              </td><td>0.0              </td><td>0.0               </td><td>Nelly Carsoning  </td><td>G         </td><td>3.0              </td><td>S           </td><td>Nelly       </td><td>Carsoning  </td></tr>\n",
       "<tr><td>1      </td><td>0018_01      </td><td>Earth       </td><td>False      </td><td>F/4/S  </td><td>TRAPPIST-1e  </td><td>19.0              </td><td>False</td><td>0.0               </td><td>9.0               </td><td>0.0              </td><td>2823.0           </td><td>0.0               </td><td>Lerome Peckers   </td><td>F         </td><td>4.0              </td><td>S           </td><td>Lerome      </td><td>Peckers    </td></tr>\n",
       "<tr><td>2      </td><td>0019_01      </td><td>Europa      </td><td>True       </td><td>C/0/S  </td><td>55 Cancri e  </td><td>31.0              </td><td>False</td><td>0.0               </td><td>0.0               </td><td>0.0              </td><td>0.0              </td><td>0.0               </td><td>Sabih Unhearfus  </td><td>C         </td><td>0.0              </td><td>S           </td><td>Sabih       </td><td>Unhearfus  </td></tr>\n",
       "<tr><td>3      </td><td>0021_01      </td><td>Europa      </td><td>False      </td><td>C/1/S  </td><td>TRAPPIST-1e  </td><td>38.0              </td><td>False</td><td>0.0               </td><td>6652.0            </td><td>0.0              </td><td>181.0            </td><td>585.0             </td><td>Meratz Caltilter </td><td>C         </td><td>1.0              </td><td>S           </td><td>Meratz      </td><td>Caltilter  </td></tr>\n",
       "<tr><td>4      </td><td>0023_01      </td><td>Earth       </td><td>False      </td><td>F/5/S  </td><td>TRAPPIST-1e  </td><td>20.0              </td><td>False</td><td>10.0              </td><td>0.0               </td><td>635.0            </td><td>0.0              </td><td>0.0               </td><td>Brence Harperez  </td><td>F         </td><td>5.0              </td><td>S           </td><td>Brence      </td><td>Harperez   </td></tr>\n",
       "<tr><td>5      </td><td>0027_01      </td><td>Earth       </td><td>False      </td><td>F/7/P  </td><td>TRAPPIST-1e  </td><td>31.0              </td><td>False</td><td>0.0               </td><td>1615.0            </td><td>263.0            </td><td>113.0            </td><td>60.0              </td><td>Karlen Ricks     </td><td>F         </td><td>7.0              </td><td>P           </td><td>Karlen      </td><td>Ricks      </td></tr>\n",
       "<tr><td>6      </td><td>0029_01      </td><td>Europa      </td><td>True       </td><td>B/2/P  </td><td>55 Cancri e  </td><td>21.0              </td><td>False</td><td>0.0               </td><td>nan               </td><td>0.0              </td><td>0.0              </td><td>0.0               </td><td>Aldah Ainserfle  </td><td>B         </td><td>2.0              </td><td>P           </td><td>Aldah       </td><td>Ainserfle  </td></tr>\n",
       "<tr><td>7      </td><td>0032_01      </td><td>Europa      </td><td>True       </td><td>D/0/S  </td><td>TRAPPIST-1e  </td><td>20.0              </td><td>False</td><td>0.0               </td><td>0.0               </td><td>0.0              </td><td>0.0              </td><td>0.0               </td><td>Acrabi Pringry   </td><td>D         </td><td>0.0              </td><td>S           </td><td>Acrabi      </td><td>Pringry    </td></tr>\n",
       "<tr><td>8      </td><td>0032_02      </td><td>Europa      </td><td>True       </td><td>D/0/S  </td><td>55 Cancri e  </td><td>23.0              </td><td>False</td><td>0.0               </td><td>0.0               </td><td>0.0              </td><td>0.0              </td><td>0.0               </td><td>Dhena Pringry    </td><td>D         </td><td>0.0              </td><td>S           </td><td>Dhena       </td><td>Pringry    </td></tr>\n",
       "<tr><td>9      </td><td>0033_01      </td><td>Earth       </td><td>False      </td><td>F/7/S  </td><td>55 Cancri e  </td><td>24.0              </td><td>False</td><td>0.0               </td><td>639.0             </td><td>0.0              </td><td>0.0              </td><td>0.0               </td><td>Eliana Delazarson</td><td>F         </td><td>7.0              </td><td>S           </td><td>Eliana      </td><td>Delazarson </td></tr>\n",
       "</tbody>\n",
       "</table><pre style='font-size: smaller; margin-bottom: 1em;'>[4277 rows x 18 columns]</pre>"
      ],
      "text/plain": [
       "         PassengerId    HomePlanet    CryoSleep    Cabin    Destination    Age                 VIP    RoomService         FoodCourt           ShoppingMall       Spa                VRDeck              Name               CabinOne    CabinTwo           CabinThree    First Name    Last Name\n",
       "-------  -------------  ------------  -----------  -------  -------------  ------------------  -----  ------------------  ------------------  -----------------  -----------------  ------------------  -----------------  ----------  -----------------  ------------  ------------  -----------\n",
       "type     string         enum          enum         enum     enum           int                 enum   int                 int                 int                int                int                 string             enum        int                enum          enum          enum\n",
       "mins     NaN                                                               0.0                        0.0                 0.0                 0.0                0.0                0.0                 NaN                            0.0\n",
       "mean     NaN                                                               28.65814620162445          219.26626936829544  439.48429633181445  177.2955252452741  303.0524425287358  310.7100309745055   NaN                            610.1788364855154\n",
       "maxs     NaN                                                               79.0                       11567.0             25273.0             8292.0             19844.0            22272.0             NaN                            1890.0\n",
       "sigma    NaN                                                               14.179071585227367         607.0112887875927   1527.6630449251825  560.8211231958647  1117.186014940959  1246.9947416212317  NaN                            514.9681306884872\n",
       "zeros    0                                                                 82                         2726                2690                2744               2611               2757                0                              7\n",
       "missing  0              0             0            0        0              91                  0      82                  106                 98                 101                80                  0                  0           100                0             0             0\n",
       "0        0013_01        Earth         True         G/3/S    TRAPPIST-1e    27.0                False  0.0                 0.0                 0.0                0.0                0.0                 Nelly Carsoning    G           3.0                S             Nelly         Carsoning\n",
       "1        0018_01        Earth         False        F/4/S    TRAPPIST-1e    19.0                False  0.0                 9.0                 0.0                2823.0             0.0                 Lerome Peckers     F           4.0                S             Lerome        Peckers\n",
       "2        0019_01        Europa        True         C/0/S    55 Cancri e    31.0                False  0.0                 0.0                 0.0                0.0                0.0                 Sabih Unhearfus    C           0.0                S             Sabih         Unhearfus\n",
       "3        0021_01        Europa        False        C/1/S    TRAPPIST-1e    38.0                False  0.0                 6652.0              0.0                181.0              585.0               Meratz Caltilter   C           1.0                S             Meratz        Caltilter\n",
       "4        0023_01        Earth         False        F/5/S    TRAPPIST-1e    20.0                False  10.0                0.0                 635.0              0.0                0.0                 Brence Harperez    F           5.0                S             Brence        Harperez\n",
       "5        0027_01        Earth         False        F/7/P    TRAPPIST-1e    31.0                False  0.0                 1615.0              263.0              113.0              60.0                Karlen Ricks       F           7.0                P             Karlen        Ricks\n",
       "6        0029_01        Europa        True         B/2/P    55 Cancri e    21.0                False  0.0                 nan                 0.0                0.0                0.0                 Aldah Ainserfle    B           2.0                P             Aldah         Ainserfle\n",
       "7        0032_01        Europa        True         D/0/S    TRAPPIST-1e    20.0                False  0.0                 0.0                 0.0                0.0                0.0                 Acrabi Pringry     D           0.0                S             Acrabi        Pringry\n",
       "8        0032_02        Europa        True         D/0/S    55 Cancri e    23.0                False  0.0                 0.0                 0.0                0.0                0.0                 Dhena Pringry      D           0.0                S             Dhena         Pringry\n",
       "9        0033_01        Earth         False        F/7/S    55 Cancri e    24.0                False  0.0                 639.0               0.0                0.0                0.0                 Eliana Delazarson  F           7.0                S             Eliana        Delazarson\n",
       "[4277 rows x 18 columns]\n"
      ]
     },
     "metadata": {},
     "output_type": "display_data"
    },
    {
     "name": "stdout",
     "output_type": "stream",
     "text": [
      "glm prediction progress: |███████████████████████████████████████████████████████| (done) 100%\n"
     ]
    },
    {
     "name": "stderr",
     "output_type": "stream",
     "text": [
      "d:\\Git\\kaggle-spaceship-titanic\\.venv\\Lib\\site-packages\\h2o\\job.py:81: UserWarning: Test/Validation dataset column 'Cabin' has levels not trained on: [\"A/1/P\", \"A/105/S\", \"A/108/S\", \"A/109/S\", \"A/11/P\", \"A/12/P\", \"A/12/S\", \"A/13/S\", \"A/15/P\", \"A/15/S\", ...3245 not listed..., \"G/993/P\", \"G/994/P\", \"G/995/P\", \"G/996/P\", \"G/997/P\", \"G/997/S\", \"T/0/S\", \"T/1/S\", \"T/3/S\", \"T/4/P\"]\n",
      "  warnings.warn(w)\n",
      "d:\\Git\\kaggle-spaceship-titanic\\.venv\\Lib\\site-packages\\h2o\\job.py:81: UserWarning: Test/Validation dataset column 'First Name' has levels not trained on: [\"Achirk\", \"Acrabi\", \"Acruxa\", \"Aldush\", \"Alebix\", \"Alinan\", \"Alk\", \"Alnath\", \"Alphain\", \"Alraino\", ...157 not listed..., \"Unukat\", \"Volath\", \"Wark\", \"Weer\", \"Wer\", \"Wheets\", \"Yildunt\", \"Zibaham\", \"Zosmar\", \"Zubens\"]\n",
      "  warnings.warn(w)\n",
      "d:\\Git\\kaggle-spaceship-titanic\\.venv\\Lib\\site-packages\\h2o\\job.py:81: UserWarning: Test/Validation dataset column 'Last Name' has levels not trained on: [\"Aginoid\", \"Aloquinght\", \"Alutorody\", \"Anate\", \"Apity\", \"Asharing\", \"Assefle\", \"Asseple\", \"Ativeezy\", \"Backo\", ...169 not listed..., \"Vactive\", \"Viouster\", \"Wassing\", \"Watkinsones\", \"Wees\", \"Wheltary\", \"Whetingert\", \"Wiste\", \"Witicheal\", \"Witive\"]\n",
      "  warnings.warn(w)\n"
     ]
    },
    {
     "data": {
      "text/html": [
       "<pre style='margin: 1em 0 1em 0;'>Rows:4277\n",
       "Cols:3\n",
       "</pre>"
      ],
      "text/plain": [
       "Rows:4277\n",
       "Cols:3\n"
      ]
     },
     "metadata": {},
     "output_type": "display_data"
    },
    {
     "data": {
      "text/html": [
       "<table class='dataframe'>\n",
       "<thead>\n",
       "<tr><th>       </th><th>predict  </th><th>False               </th><th>True                  </th></tr>\n",
       "</thead>\n",
       "<tbody>\n",
       "<tr><td>type   </td><td>enum     </td><td>real                </td><td>real                  </td></tr>\n",
       "<tr><td>mins   </td><td>         </td><td>4.44144929845347e-06</td><td>1.2094850217788862e-14</td></tr>\n",
       "<tr><td>mean   </td><td>         </td><td>0.5014004306425283  </td><td>0.49859956935747135   </td></tr>\n",
       "<tr><td>maxs   </td><td>         </td><td>0.9999999999999879  </td><td>0.9999955585507015    </td></tr>\n",
       "<tr><td>sigma  </td><td>         </td><td>0.3245797487066522  </td><td>0.3245797487066521    </td></tr>\n",
       "<tr><td>zeros  </td><td>         </td><td>0                   </td><td>0                     </td></tr>\n",
       "<tr><td>missing</td><td>0        </td><td>0                   </td><td>0                     </td></tr>\n",
       "<tr><td>0      </td><td>True     </td><td>0.27480449677359264 </td><td>0.7251955032264074    </td></tr>\n",
       "<tr><td>1      </td><td>False    </td><td>0.993853826058361   </td><td>0.006146173941639013  </td></tr>\n",
       "<tr><td>2      </td><td>True     </td><td>0.012080074074453773</td><td>0.9879199259255462    </td></tr>\n",
       "<tr><td>3      </td><td>True     </td><td>0.01262179483192205 </td><td>0.987378205168078     </td></tr>\n",
       "<tr><td>4      </td><td>True     </td><td>0.4216845673815459  </td><td>0.5783154326184541    </td></tr>\n",
       "<tr><td>5      </td><td>True     </td><td>0.5069776795121014  </td><td>0.4930223204878986    </td></tr>\n",
       "<tr><td>6      </td><td>True     </td><td>0.02809498593047921 </td><td>0.9719050140695208    </td></tr>\n",
       "<tr><td>7      </td><td>True     </td><td>0.047347495122524785</td><td>0.9526525048774752    </td></tr>\n",
       "<tr><td>8      </td><td>True     </td><td>0.03382407831611889 </td><td>0.9661759216838811    </td></tr>\n",
       "<tr><td>9      </td><td>True     </td><td>0.33673002310467093 </td><td>0.6632699768953291    </td></tr>\n",
       "</tbody>\n",
       "</table><pre style='font-size: smaller; margin-bottom: 1em;'>[4277 rows x 3 columns]</pre>"
      ],
      "text/plain": [
       "         predict    False                 True\n",
       "-------  ---------  --------------------  ----------------------\n",
       "type     enum       real                  real\n",
       "mins                4.44144929845347e-06  1.2094850217788862e-14\n",
       "mean                0.5014004306425283    0.49859956935747135\n",
       "maxs                0.9999999999999879    0.9999955585507015\n",
       "sigma               0.3245797487066522    0.3245797487066521\n",
       "zeros               0                     0\n",
       "missing  0          0                     0\n",
       "0        True       0.27480449677359264   0.7251955032264074\n",
       "1        False      0.993853826058361     0.006146173941639013\n",
       "2        True       0.012080074074453773  0.9879199259255462\n",
       "3        True       0.01262179483192205   0.987378205168078\n",
       "4        True       0.4216845673815459    0.5783154326184541\n",
       "5        True       0.5069776795121014    0.4930223204878986\n",
       "6        True       0.02809498593047921   0.9719050140695208\n",
       "7        True       0.047347495122524785  0.9526525048774752\n",
       "8        True       0.03382407831611889   0.9661759216838811\n",
       "9        True       0.33673002310467093   0.6632699768953291\n",
       "[4277 rows x 3 columns]\n"
      ]
     },
     "metadata": {},
     "output_type": "display_data"
    }
   ],
   "source": [
    "test = curate(pd.read_csv('test.csv'))\n",
    "test = h2o.H2OFrame(test)\n",
    "test.describe()\n",
    "preds = aml.leader.predict(test)\n",
    "preds.describe()\n",
    "fullPredsHF = test.cbind(preds)\n"
   ]
  },
  {
   "cell_type": "code",
   "execution_count": null,
   "metadata": {},
   "outputs": [],
   "source": [
    "fullPredsDF = fullPredsHF.as_data_frame()\n",
    "fullPredsDF = fullPredsDF[['PassengerId', 'predict']]\n",
    "fullPredsDF = fullPredsDF.rename(columns={'predict': 'Transported'})\n",
    "fullPredsDF.to_csv('submission.csv', index=False)"
   ]
  },
  {
   "cell_type": "code",
   "execution_count": 36,
   "metadata": {},
   "outputs": [
    {
     "name": "stdout",
     "output_type": "stream",
     "text": [
      "Successfully submitted to Spaceship Titanic\n"
     ]
    },
    {
     "name": "stderr",
     "output_type": "stream",
     "text": [
      "\n",
      "  0%|          | 0.00/60.3k [00:00<?, ?B/s]\n",
      "100%|██████████| 60.3k/60.3k [00:00<00:00, 79.2kB/s]\n"
     ]
    }
   ],
   "source": [
    "!kaggle competitions submit -c spaceship-titanic -f submission.csv -m \"First Pass with H2O\""
   ]
  }
 ],
 "metadata": {
  "kernelspec": {
   "display_name": ".venv",
   "language": "python",
   "name": "python3"
  },
  "language_info": {
   "codemirror_mode": {
    "name": "ipython",
    "version": 3
   },
   "file_extension": ".py",
   "mimetype": "text/x-python",
   "name": "python",
   "nbconvert_exporter": "python",
   "pygments_lexer": "ipython3",
   "version": "3.13.2"
  }
 },
 "nbformat": 4,
 "nbformat_minor": 2
}
